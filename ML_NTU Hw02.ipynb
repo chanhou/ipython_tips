{
 "metadata": {
  "name": ""
 },
 "nbformat": 3,
 "nbformat_minor": 0,
 "worksheets": [
  {
   "cells": [
    {
     "cell_type": "markdown",
     "metadata": {},
     "source": [
      "# HW 2"
     ]
    },
    {
     "cell_type": "code",
     "collapsed": false,
     "input": [
      "import numpy as np\n",
      "import math"
     ],
     "language": "python",
     "metadata": {},
     "outputs": [],
     "prompt_number": 1
    },
    {
     "cell_type": "markdown",
     "metadata": {},
     "source": [
      "# Problems 17 - 18"
     ]
    },
    {
     "cell_type": "code",
     "collapsed": false,
     "input": [
      "# np.random.seed( None )\n",
      "# def x_gen():\n",
      "x = []\n",
      "np.random.seed( None )\n",
      "for i in range(0,20):\n",
      "    x.append(np.random.random_sample()*2-1)\n",
      "x = np.array(x)\n",
      "x.sort()\n",
      "x\n",
      "    \n",
      "# x_gen()\n",
      "# x"
     ],
     "language": "python",
     "metadata": {},
     "outputs": [
      {
       "metadata": {},
       "output_type": "pyout",
       "prompt_number": 2,
       "text": [
        "array([-0.91807044, -0.86598493, -0.50922909, -0.30375785, -0.02575905,\n",
        "        0.12814333,  0.19117487,  0.21588667,  0.27786576,  0.28415145,\n",
        "        0.30185571,  0.39291573,  0.41354831,  0.480409  ,  0.70536769,\n",
        "        0.7327324 ,  0.79212141,  0.8896569 ,  0.89527997,  0.94976036])"
       ]
      }
     ],
     "prompt_number": 2
    },
    {
     "cell_type": "code",
     "collapsed": false,
     "input": [
      "# generate x by a uniform distribution in [-1,1]\n",
      "# x = np.linspace(-1,1,20,endpoint=False)\n",
      "# x\n",
      "# np.random.rand(1)"
     ],
     "language": "python",
     "metadata": {},
     "outputs": [],
     "prompt_number": 3
    },
    {
     "cell_type": "code",
     "collapsed": false,
     "input": [
      "f = []\n",
      "for xx in x:\n",
      "    noise = np.random.rand(1)\n",
      "    y = math.copysign(1,xx)\n",
      "    if noise <= 0.2:\n",
      "        y = y * -1\n",
      "    f.append(y)\n",
      "f = np.array(f)\n"
     ],
     "language": "python",
     "metadata": {},
     "outputs": [],
     "prompt_number": 4
    },
    {
     "cell_type": "code",
     "collapsed": false,
     "input": [
      "E_in_record = []\n",
      "E_out_record = []\n",
      "\n",
      "for i in range(5000):\n",
      "    \n",
      "    # x generator\n",
      "    x = []\n",
      "    np.random.seed(  None )\n",
      "    for i in range(0,20):\n",
      "        x.append(np.random.random_sample()*2-1)\n",
      "    x = np.array(x)\n",
      "    x.sort()\n",
      "#     print x\n",
      "    \n",
      "    # y generator\n",
      "    f = []\n",
      "    for xx in x:\n",
      "        noise = np.random.rand(1)\n",
      "#         print noise\n",
      "        y = math.copysign(1,xx)\n",
      "        if noise <= 0.2:\n",
      "            y = y * -1\n",
      "        f.append(y)\n",
      "    f = np.array(f)\n",
      "    \n",
      "    s = [-1,1]\n",
      "    \n",
      "    theta_record = 0\n",
      "    s_record = 0\n",
      "\n",
      "    err_record = 20\n",
      "    for theta_count in range(0,21):\n",
      "        if theta_count == 0:\n",
      "            theta = (x[0]+(-1))/2\n",
      "        elif theta_count == 20:\n",
      "            theta = (x[19]+(1))/2\n",
      "        else :\n",
      "            theta = (x[theta_count] + x[theta_count-1])/2\n",
      "        for ii in s:\n",
      "            err = 0\n",
      "            for test in range(0,20):\n",
      "                hypo = ii*math.copysign(1,(x[test]-theta))\n",
      "                if hypo != (f[test]):\n",
      "                    err += 1    \n",
      "#             print err_record\n",
      "            if err < err_record:\n",
      "                err_record = err\n",
      "                theta_record = theta\n",
      "                s_record = ii\n",
      "    \n",
      "    E_in = err_record/20.0\n",
      "#     print E_in\n",
      "    E_in_record.append(E_in)\n",
      "    E_out = 0.5 + 0.3 * s_record*(math.fabs(theta_record)-1)\n",
      "    E_out_record.append(E_out)\n",
      "#     print E_in, E_out, theta_record, s_record\n",
      "\n",
      "# print len(E_in_record)\n",
      "E_in_record = np.mean(np.array(E_in_record))\n",
      "E_out_record = np.mean(np.array(E_out_record))\n",
      "print E_in_record, E_out_record\n"
     ],
     "language": "python",
     "metadata": {},
     "outputs": [
      {
       "output_type": "stream",
       "stream": "stdout",
       "text": [
        "0.17199 0.258638489208\n"
       ]
      }
     ],
     "prompt_number": 5
    },
    {
     "cell_type": "markdown",
     "metadata": {},
     "source": [
      "# Problems 19 - 20"
     ]
    },
    {
     "cell_type": "code",
     "collapsed": false,
     "input": [
      "train_data = np.genfromtxt(\"/home/chan/self/104_1st/ML_NTU/hw2/hw2_train.dat.txt\", dtype=float, delimiter='') \n",
      "test_data = np.genfromtxt(\"/home/chan/self/104_1st/ML_NTU/hw2/hw2_test.dat.txt\", dtype=float, delimiter='') "
     ],
     "language": "python",
     "metadata": {},
     "outputs": [],
     "prompt_number": 6
    },
    {
     "cell_type": "code",
     "collapsed": false,
     "input": [
      "xx = train_data[:]\n",
      "# for i in range (0,5):\n",
      "#     print i\n",
      "# len(xx[0])\n",
      "# len(xx)\n",
      "gg = xx[np.argsort(xx[:, 3])]\n",
      "# gg"
     ],
     "language": "python",
     "metadata": {},
     "outputs": [],
     "prompt_number": 7
    },
    {
     "cell_type": "code",
     "collapsed": false,
     "input": [
      "ff = test_data[:,0:9]\n",
      "# ff[1]"
     ],
     "language": "python",
     "metadata": {},
     "outputs": [],
     "prompt_number": 8
    },
    {
     "cell_type": "code",
     "collapsed": false,
     "input": [
      "a = np.array( [ [4, 5, 2,0], [4, 4, 3,6], [3, 1, 1,2] ] ) \n",
      "i = np.lexsort((a[:,2], a[:,3])) \n",
      "# i\n",
      "# b = a[i] \n",
      "# b"
     ],
     "language": "python",
     "metadata": {},
     "outputs": [],
     "prompt_number": 9
    },
    {
     "cell_type": "code",
     "collapsed": false,
     "input": [
      "arr = np.array([[-0.30565392, -0.96605562],\n",
      "                [ 0.85331367, -2.62963495],\n",
      "                [ 0.87839643, -0.28283675],\n",
      "                [ 0.72676698,  0.93213482],\n",
      "                [-0.52007354,  0.27752806],\n",
      "                [-0.08701666,  0.22764316],\n",
      "                [-1.78897817,  0.50737573],\n",
      "                [ 0.62260038, -1.96012161],\n",
      "                [-1.98231706,  0.36523876],\n",
      "                [-1.07587382, -2.3022289 ]])\n",
      "gg = arr[np.argsort(arr[:, 0])]\n",
      "# gg"
     ],
     "language": "python",
     "metadata": {},
     "outputs": [],
     "prompt_number": 10
    },
    {
     "cell_type": "code",
     "collapsed": false,
     "input": [
      "def qq(train_data , test_data):\n",
      "    \n",
      "    x = train_data[:]\n",
      "    x = np.array(x)\n",
      "    \n",
      "    s = [-1,1]\n",
      "    \n",
      "    E_in_record = 0\n",
      "    \n",
      "    theta_record = 0\n",
      "    s_record = 0\n",
      "    theta_collect = 0\n",
      "    s_collect = 0\n",
      "    \n",
      "    for theta_count in range(0,(len(x[0])-1)): # theta_count: 0->9\n",
      "        x = x[np.argsort(x[:, theta_count])] # sorting data by column\n",
      "        xx = x[:,theta_count] # select x by dimension\n",
      "        f = x[:,9] # select label\n",
      "        err_record = len(x) # initiaite guess of error\n",
      "\n",
      "        for gg in range(0,len(x)+1):    # gg: 0->101\n",
      "            if gg == 0: # extend from minus infinity to xx[0]\n",
      "                theta = (xx[gg]+(-1))/2\n",
      "            elif gg == (len(x)):# extend from xx[last] to infinity\n",
      "                theta = (xx[gg-1]+(1))/2\n",
      "            else : # take average position between 2 nodes\n",
      "                theta = (xx[gg] + xx[gg-1])/2\n",
      "            for ii in s: # try both side\n",
      "                err = 0 # initiate error\n",
      "                for test in range(0,len(x)): # for each theta, count error\n",
      "                    hypo = ii*math.copysign(1,(xx[test]-theta))\n",
      "                    if hypo != (f[test]):\n",
      "                        err += 1.    \n",
      "                if err < err_record: # record the best error\n",
      "#                     print err\n",
      "                    err_record = err\n",
      "                    theta_record = theta\n",
      "                    s_record = ii\n",
      "        E_in = err_record/len(x)\n",
      "        \n",
      "        print E_in, theta_record, s_record\n",
      "        if theta_count == 0:\n",
      "            E_in_record = E_in\n",
      "            theta_collect = theta_record\n",
      "            theta_theta = theta_count # record the dimension\n",
      "            s_collect = s_record\n",
      "        elif E_in < E_in_record: # record best of best \n",
      "            E_in_record = E_in\n",
      "            theta_collect = theta_record\n",
      "            theta_theta = theta_count # record the dimension\n",
      "            s_collect = s_record\n",
      "    print \"\"\n",
      "    print \"E_in_record, theta_theta, theta_collect, s_collect\"\n",
      "    print E_in_record, theta_theta, theta_collect, s_collect\n",
      "    \n",
      "    #####################  E out of sample   #####################\n",
      "    test = test_data[:]\n",
      "    test = np.array(test)\n",
      "    E_out_record = 0\n",
      "\n",
      "    for theta_count in range(0,(len(test[0])-1)): # theta_count: 0->9\n",
      "        tt = test[:,theta_count]\n",
      "        yy = test[:,9]\n",
      "        err = 0\n",
      "        if theta_count == theta_theta:\n",
      "            for gg in range(0,len(tt)):    # gg: 0->100\n",
      "                hypo = s_collect*math.copysign(1,(tt[gg]-theta_collect))\n",
      "                if hypo != (yy[gg]):\n",
      "                    err += 1.\n",
      "            E_out_record = (err/len(tt))\n",
      "        else:\n",
      "            continue\n",
      "#         print err/len(tt)\n",
      "        \n",
      "#     E_out_record = np.array(E_out_record)\n",
      "#     E_out = np.mean(E_out_record)\n",
      "    \n",
      "    print \"\"\n",
      "    print \"E_out::\",E_out_record"
     ],
     "language": "python",
     "metadata": {},
     "outputs": [],
     "prompt_number": 11
    },
    {
     "cell_type": "code",
     "collapsed": false,
     "input": [
      "qq(train_data, test_data)"
     ],
     "language": "python",
     "metadata": {},
     "outputs": [
      {
       "output_type": "stream",
       "stream": "stdout",
       "text": [
        "0.39 3.883 -1\n",
        "0.39 -3.324 1\n",
        "0.4"
       ]
      },
      {
       "output_type": "stream",
       "stream": "stdout",
       "text": [
        " -8.465 1\n",
        "0.25 1.6175 -1\n",
        "0.43"
       ]
      },
      {
       "output_type": "stream",
       "stream": "stdout",
       "text": [
        " -9.6105 1\n",
        "0.28 4.329 -1\n",
        "0.34"
       ]
      },
      {
       "output_type": "stream",
       "stream": "stdout",
       "text": [
        " 4.085 -1\n",
        "0.39 -2.8135 -1\n",
        "0.36"
       ]
      },
      {
       "output_type": "stream",
       "stream": "stdout",
       "text": [
        " -0.147 -1\n",
        "\n",
        "E_in_record, theta_theta, theta_collect, s_collect\n",
        "0.25 3 1.6175 -1\n",
        "\n",
        "E_out:: 0.355\n"
       ]
      }
     ],
     "prompt_number": 12
    },
    {
     "cell_type": "code",
     "collapsed": false,
     "input": [],
     "language": "python",
     "metadata": {},
     "outputs": []
    }
   ],
   "metadata": {}
  }
 ]
}