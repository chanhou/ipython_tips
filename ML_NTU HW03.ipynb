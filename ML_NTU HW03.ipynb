{
 "metadata": {
  "name": ""
 },
 "nbformat": 3,
 "nbformat_minor": 0,
 "worksheets": [
  {
   "cells": [
    {
     "cell_type": "code",
     "collapsed": false,
     "input": [
      "import numpy as np\n",
      "import math\n",
      "import scipy.linalg as sp"
     ],
     "language": "python",
     "metadata": {},
     "outputs": [],
     "prompt_number": 3
    },
    {
     "cell_type": "markdown",
     "metadata": {},
     "source": [
      "# Q13-15"
     ]
    },
    {
     "cell_type": "code",
     "collapsed": false,
     "input": [
      "# generate x with uniform probability in [-1,1]\n",
      "def generate_x(transform):\n",
      "    x = []\n",
      "#     x.append(1)\n",
      "    np.random.seed( None )\n",
      "    for i in range(0,1000):\n",
      "        x1 = np.random.random_sample()*2-1\n",
      "        x2 = np.random.random_sample()*2-1\n",
      "        if transform: # feature transform\n",
      "            x3 = x1*x2\n",
      "            x4 = x1**2\n",
      "            x5 = x2**2\n",
      "            x.append([1,x1,x2,x3,x4,x5])\n",
      "        else:\n",
      "            x.append([1,x1,x2])\n",
      "#     np.insert(data_1, 0, 1, axis=1)\n",
      "    x = np.array(x)\n",
      "    return x\n",
      "# x1.sort()\n",
      "# xx=generate_x(True)\n",
      "# xx\n",
      "# len(generate_x())"
     ],
     "language": "python",
     "metadata": {},
     "outputs": [],
     "prompt_number": 100
    },
    {
     "cell_type": "code",
     "collapsed": false,
     "input": [
      "# generate target function\n",
      "def generate_y(x):\n",
      "    y = []\n",
      "    for i in range(len(x)):\n",
      "        noise = np.random.rand(1)\n",
      "#         print x[i][1],x[i][2]\n",
      "        f = math.copysign(1, x[i][1]**2+ x[i][2]**2 - 0.6 )\n",
      "        if noise <= 0.1:\n",
      "            f = f * -1\n",
      "#         print f\n",
      "        y.append(f)\n",
      "    y = np.array(y)\n",
      "    return y"
     ],
     "language": "python",
     "metadata": {},
     "outputs": [],
     "prompt_number": 101
    },
    {
     "cell_type": "code",
     "collapsed": false,
     "input": [
      "# x = generate_x()\n",
      "# print x.shape\n",
      "def linear(transform):\n",
      "    E_ = []\n",
      "    \n",
      "    for i in range(1000):\n",
      "        x = generate_x(transform)\n",
      "        y = generate_y(x)\n",
      "        \n",
      "        if transform:\n",
      "            # hypothesis given by Q14\n",
      "            # weight = [-1.,-0.05,0.08,0.13,1.5,1.5]\n",
      "            weight = weight_hypo\n",
      "        else:\n",
      "            weight = np.dot(np.dot( sp.inv( np.dot( x.transpose(),x)), x.transpose()), y)\n",
      "        \n",
      "        y_predict = np.dot(x,weight)\n",
      "            \n",
      "    #     print y_predict\n",
      "        y_predict[y_predict >= 0 ] = 1\n",
      "        y_predict[y_predict < 0 ] = -1\n",
      "    #     print y_predict\n",
      "    \n",
      "        # if predict correct then result = 1 - (-1) = 2\n",
      "        #                                 pre  label  \n",
      "        result = y_predict - y\n",
      "        \n",
      "        # counting result is error\n",
      "        err = np.count_nonzero(result)\n",
      "#         print err\n",
      "        error_rate = (1.0*err)/len(y)\n",
      "        E_.append(error_rate)\n",
      "        \n",
      "    E = np.mean(np.array(E_))\n",
      "    \n",
      "    return E"
     ],
     "language": "python",
     "metadata": {},
     "outputs": [],
     "prompt_number": 104
    },
    {
     "cell_type": "markdown",
     "metadata": {},
     "source": [
      "## Q13: weight as (1,x1,x2)"
     ]
    },
    {
     "cell_type": "code",
     "collapsed": false,
     "input": [
      "# weight as (1,x1,x2)\n",
      "%time linear(False)"
     ],
     "language": "python",
     "metadata": {},
     "outputs": [
      {
       "output_type": "stream",
       "stream": "stdout",
       "text": [
        "CPU times: user 14.8 s, sys: 871 ms, total: 15.6 s\n",
        "Wall time: 15.7 s\n"
       ]
      },
      {
       "metadata": {},
       "output_type": "pyout",
       "prompt_number": 94,
       "text": [
        "0.50482400000000049"
       ]
      }
     ],
     "prompt_number": 94
    },
    {
     "cell_type": "markdown",
     "metadata": {},
     "source": [
      "## Q14: weight transform as (1, x1, x2, x1*x2, x1*x1, x2*x2)"
     ]
    },
    {
     "cell_type": "code",
     "collapsed": false,
     "input": [
      "# weight transform as (1,x1,x2,x1*x2,x1*x1,x2*x2)\n",
      "x = generate_x(True)\n",
      "y = generate_y(x)\n",
      "\n",
      "weight_hypo = np.dot(np.dot( sp.inv( np.dot( x.transpose(),x)), x.transpose()), y)\n",
      "print weight_hypo"
     ],
     "language": "python",
     "metadata": {},
     "outputs": [
      {
       "output_type": "stream",
       "stream": "stdout",
       "text": [
        "[ -1.07530981e+00  -1.88190403e-02   4.43388532e-04  -3.34862661e-02\n",
        "   1.62933293e+00   1.65967004e+00]\n"
       ]
      }
     ],
     "prompt_number": 103
    },
    {
     "cell_type": "markdown",
     "metadata": {},
     "source": [
      "## Q15: g(x1,x2) = sign(-1 -0.05x1 +0.08x2 +0.13x1x2 +1.5x1^2 +1.5x2^2)"
     ]
    },
    {
     "cell_type": "code",
     "collapsed": false,
     "input": [
      "%time linear(True)"
     ],
     "language": "python",
     "metadata": {},
     "outputs": [
      {
       "output_type": "stream",
       "stream": "stdout",
       "text": [
        "CPU times: user 15 s, sys: 919 ms, total: 15.9 s\n",
        "Wall time: 16 s\n"
       ]
      },
      {
       "metadata": {},
       "output_type": "pyout",
       "prompt_number": 105,
       "text": [
        "0.1344490000000001"
       ]
      }
     ],
     "prompt_number": 105
    },
    {
     "cell_type": "markdown",
     "metadata": {},
     "source": [
      "# Q18 -20 \uff1a Logistic Regression"
     ]
    },
    {
     "cell_type": "code",
     "collapsed": false,
     "input": [
      "a = np.array([[1],[2],[3],[4]])\n",
      "# b = sp.expm(a)\n",
      "# a.shape\n",
      "b = map(lambda x :x+100,a)\n",
      "b[0]"
     ],
     "language": "python",
     "metadata": {},
     "outputs": [
      {
       "metadata": {},
       "output_type": "pyout",
       "prompt_number": 125,
       "text": [
        "array([103])"
       ]
      }
     ],
     "prompt_number": 125
    },
    {
     "cell_type": "code",
     "collapsed": false,
     "input": [
      "# read file as numpy array\n",
      "data_train = np.genfromtxt(\"./hw3_train.dat.txt\", dtype=float, delimiter='') \n",
      "\n",
      "data_train = np.insert(data_train, 0, 1, axis=1)\n",
      "print data_train[:,0:21]\n",
      "# len(data_train[0])-1"
     ],
     "language": "python",
     "metadata": {},
     "outputs": [
      {
       "output_type": "stream",
       "stream": "stdout",
       "text": [
        "[[ 1.        0.57548   0.53938  ...,  0.38317   0.35514   0.39439 ]\n",
        " [ 1.        0.70727   0.88503  ...,  0.39012   0.68854   0.077076]\n",
        " [ 1.        0.24443   0.27331  ...,  0.52541   0.93579   0.69411 ]\n",
        " ..., \n",
        " [ 1.        0.18265   0.021352 ...,  0.030984  0.99831   0.13292 ]\n",
        " [ 1.        0.27829   0.66993  ...,  0.79203   0.76995   0.93146 ]\n",
        " [ 1.        0.9796    0.47349  ...,  0.16425   0.24958   0.46893 ]]\n"
       ]
      }
     ],
     "prompt_number": 7
    },
    {
     "cell_type": "code",
     "collapsed": false,
     "input": [
      "# read file as numpy array\n",
      "data_test = np.genfromtxt(\"./hw3_test.dat.txt\", dtype=float, delimiter='') \n",
      "data_test = np.insert(data_test, 0, 1, axis=1)\n",
      "data_test[:,0:21]\n",
      "# weights = np.zeros(len(data_train[0])-1)\n",
      "# print weights.shape"
     ],
     "language": "python",
     "metadata": {},
     "outputs": [
      {
       "metadata": {},
       "output_type": "pyout",
       "prompt_number": 8,
       "text": [
        "array([[ 1.      ,  0.26502 ,  0.5486  , ...,  0.85909 ,  0.26772 ,\n",
        "         0.13751 ],\n",
        "       [ 1.      ,  0.33274 ,  0.4236  , ...,  0.78459 ,  0.3385  ,\n",
        "         0.95746 ],\n",
        "       [ 1.      ,  0.39866 ,  0.8519  , ...,  0.70907 ,  0.46856 ,\n",
        "         0.41686 ],\n",
        "       ..., \n",
        "       [ 1.      ,  0.15646 ,  0.92112 , ...,  0.35137 ,  0.87387 ,\n",
        "         0.53971 ],\n",
        "       [ 1.      ,  0.88009 ,  0.35045 , ...,  0.36721 ,  0.54853 ,\n",
        "         0.043504],\n",
        "       [ 1.      ,  0.75742 ,  0.55526 , ...,  0.80518 ,  0.66021 ,\n",
        "         0.24521 ]])"
       ]
      }
     ],
     "prompt_number": 8
    },
    {
     "cell_type": "code",
     "collapsed": false,
     "input": [
      "def sigmoid(h):\n",
      "    result = map (lambda x:1/(1+math.exp(-1.*x)) ,h)\n",
      "    return result\n",
      "# sigmoid([1.])\n",
      "# %timeit np.apply_along_axis(sigmoid, 1, [[1,2],[2,3]])\n",
      "np.apply_along_axis(sigmoid, 1, [[8,1,7], [4,3,9], [5,2,6],[1,2,3]])\n",
      "np.exp([[8,1,7], [4,3,9], [5,2,6],[1,2,3]])\n",
      "aa = np.array([1,2])\n",
      "print aa.mean()\n",
      "# sigmoid(aa[1])"
     ],
     "language": "python",
     "metadata": {},
     "outputs": [
      {
       "output_type": "stream",
       "stream": "stdout",
       "text": [
        "1.5\n"
       ]
      }
     ],
     "prompt_number": 9
    },
    {
     "cell_type": "code",
     "collapsed": false,
     "input": [
      "def gradient_descent(yida, stochastic):\n",
      "    weights = np.zeros(len(data_train[0])-1)\n",
      "    y_train = np.array(data_train[:,-1])\n",
      "    y_test = np.array(data_test[:,-1])\n",
      "    x_train = np.array(data_train[:,0:21])\n",
      "    x_test = np.array(data_test[:,0:21])\n",
      "    subset = 0\n",
      "    for t in range (2000):\n",
      "        if not stochastic:\n",
      "            # batch learning\n",
      "            gradient = -1.*(x_train.T.dot(y_train/\n",
      "                                          (np.exp(y_train*(weights.dot(x_train.T)))+1)))/len(y_train)\n",
      "        else:\n",
      "            # online learning\n",
      "            gradient = -1.*(x_train[subset].T.dot(y_train[subset]/\n",
      "                                      (np.exp(y_train[subset]*(weights.dot(x_train[subset].T)))+1)))\n",
      "            if subset == (len(x_train)-1):\n",
      "                subset = 0\n",
      "            else :\n",
      "                subset += 1\n",
      "        weights += yida*-1.*gradient\n",
      "    print weights\n",
      "\n",
      "    hypo = 1/(1+np.exp(-1.*(weights.dot(x_test.T))))\n",
      "    hypo[hypo >= 0.5] = 1\n",
      "    hypo[hypo < 0.5] = -1\n",
      "    print hypo\n",
      "\n",
      "    result = hypo - y_test\n",
      "    \n",
      "    # counting result is error\n",
      "    err = np.count_nonzero(result)\n",
      "    \n",
      "    error_rate = (1.0*err)/len(y_test)\n",
      "    return error_rate"
     ],
     "language": "python",
     "metadata": {},
     "outputs": [],
     "prompt_number": 19
    },
    {
     "cell_type": "markdown",
     "metadata": {},
     "source": [
      "## Q18: yida = 0.001"
     ]
    },
    {
     "cell_type": "code",
     "collapsed": false,
     "input": [
      "gradient_descent(0.001, False)"
     ],
     "language": "python",
     "metadata": {},
     "outputs": [
      {
       "output_type": "stream",
       "stream": "stdout",
       "text": [
        "[ 0.01878417 -0.01260595  0.04084862 -0.03266317  0.01502334 -0.03667437\n",
        "  0.01255934  0.04815065 -0.02206419  0.02479605  0.06899284  0.0193719\n",
        " -0.01988549 -0.0087049   0.04605863  0.05793382  0.061218   -0.04720391\n",
        "  0.06070375 -0.01610907 -0.03484607]\n",
        "[ 1.  1.  1. ...,  1.  1.  1.]\n"
       ]
      },
      {
       "metadata": {},
       "output_type": "pyout",
       "prompt_number": 16,
       "text": [
        "0.475"
       ]
      }
     ],
     "prompt_number": 16
    },
    {
     "cell_type": "markdown",
     "metadata": {},
     "source": [
      "## Q19 yida = 0.01"
     ]
    },
    {
     "cell_type": "code",
     "collapsed": false,
     "input": [
      "gradient_descent(0.01, False)"
     ],
     "language": "python",
     "metadata": {},
     "outputs": [
      {
       "output_type": "stream",
       "stream": "stdout",
       "text": [
        "[-0.00385379 -0.18914564  0.26625908 -0.35356593  0.04088776 -0.3794296\n",
        "  0.01982783  0.33391527 -0.26386754  0.13489328  0.4914191   0.08726107\n",
        " -0.25537728 -0.16291797  0.30073678  0.40014954  0.43218808 -0.46227968\n",
        "  0.43230193 -0.20786372 -0.36936337]\n",
        "[ 1. -1.  1. ...,  1.  1.  1.]\n"
       ]
      },
      {
       "metadata": {},
       "output_type": "pyout",
       "prompt_number": 17,
       "text": [
        "0.22"
       ]
      }
     ],
     "prompt_number": 17
    },
    {
     "cell_type": "markdown",
     "metadata": {},
     "source": [
      "## Q20: yida = 0.0001, stochastic process"
     ]
    },
    {
     "cell_type": "code",
     "collapsed": false,
     "input": [
      "gradient_descent(0.001, True)"
     ],
     "language": "python",
     "metadata": {},
     "outputs": [
      {
       "output_type": "stream",
       "stream": "stdout",
       "text": [
        "[ 0.01826899 -0.01308051  0.04072894 -0.03295698  0.01498363 -0.03691042\n",
        "  0.01232819  0.04791334 -0.02244958  0.02470544  0.06878235  0.01897378\n",
        " -0.02032107 -0.00901469  0.04589259  0.05776824  0.06102487 -0.04756147\n",
        "  0.06035018 -0.01660574 -0.03509342]\n",
        "[ 1.  1.  1. ...,  1.  1.  1.]\n"
       ]
      },
      {
       "metadata": {},
       "output_type": "pyout",
       "prompt_number": 20,
       "text": [
        "0.473"
       ]
      }
     ],
     "prompt_number": 20
    }
   ],
   "metadata": {}
  }
 ]
}