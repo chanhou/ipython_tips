{
 "metadata": {
  "name": ""
 },
 "nbformat": 3,
 "nbformat_minor": 0,
 "worksheets": [
  {
   "cells": [
    {
     "cell_type": "code",
     "collapsed": false,
     "input": [
      "# import plugin\n",
      "import numpy as np\n",
      "import pandas as pd\n",
      "import math "
     ],
     "language": "python",
     "metadata": {},
     "outputs": [
      {
       "output_type": "stream",
       "stream": "stderr",
       "text": [
        "/usr/local/lib/python2.7/dist-packages/pandas/io/excel.py:626: UserWarning: Installed openpyxl is not supported at this time. Use >=1.6.1 and <2.0.0.\n",
        "  .format(openpyxl_compat.start_ver, openpyxl_compat.stop_ver))\n"
       ]
      }
     ],
     "prompt_number": 2
    },
    {
     "cell_type": "markdown",
     "metadata": {},
     "source": [
      "# Define PLA algorithms for Q15-17:"
     ]
    },
    {
     "cell_type": "raw",
     "metadata": {},
     "source": [
      "# read file \n",
      "\n",
      "train_15 = pd.read_csv(\"./hw1_15_train.dat.txt\",delim_whitespace=True,header=None,names=['x1', 'x2', 'x3' ,'x4','label'])"
     ]
    },
    {
     "cell_type": "raw",
     "metadata": {},
     "source": [
      "train_15.head()"
     ]
    },
    {
     "cell_type": "raw",
     "metadata": {},
     "source": [
      "train_15[:1]"
     ]
    },
    {
     "cell_type": "code",
     "collapsed": false,
     "input": [
      "# read file as numpy array\n",
      "data_1 = np.genfromtxt(\"./hw1_15_train.dat.txt\", dtype=float, delimiter='') "
     ],
     "language": "python",
     "metadata": {},
     "outputs": [],
     "prompt_number": 104
    },
    {
     "cell_type": "code",
     "collapsed": false,
     "input": [
      "# data[1][0]\n",
      "# data[:,0:3]\n",
      "data_1[0:10]"
     ],
     "language": "python",
     "metadata": {},
     "outputs": [
      {
       "metadata": {},
       "output_type": "pyout",
       "prompt_number": 105,
       "text": [
        "array([[ 0.97681 ,  0.10723 ,  0.64385 ,  0.29556 ,  1.      ],\n",
        "       [ 0.67194 ,  0.2418  ,  0.83075 ,  0.42741 ,  1.      ],\n",
        "       [ 0.20619 ,  0.23321 ,  0.81004 ,  0.98691 ,  1.      ],\n",
        "       [ 0.51583 ,  0.055814,  0.92274 ,  0.75797 ,  1.      ],\n",
        "       [ 0.70893 ,  0.10836 ,  0.33951 ,  0.77058 ,  1.      ],\n",
        "       [ 0.55743 ,  0.67804 ,  0.061044,  0.72689 ,  1.      ],\n",
        "       [ 0.15654 ,  0.75584 ,  0.01122 ,  0.42598 , -1.      ],\n",
        "       [ 0.50462 ,  0.15137 ,  0.33878 ,  0.41881 ,  1.      ],\n",
        "       [ 0.22657 ,  0.59272 ,  0.24103 ,  0.46221 , -1.      ],\n",
        "       [ 0.49174 ,  0.65115 ,  0.24622 ,  0.24796 , -1.      ]])"
       ]
      }
     ],
     "prompt_number": 105
    },
    {
     "cell_type": "code",
     "collapsed": false,
     "input": [
      "# math.copysign(1,-1)\n",
      "\n",
      "# insert feature x0 to data\n",
      "data = np.insert(data_1, 0, 1, axis=1)\n",
      "data"
     ],
     "language": "python",
     "metadata": {},
     "outputs": [
      {
       "metadata": {},
       "output_type": "pyout",
       "prompt_number": 130,
       "text": [
        "array([[ 1.      ,  0.97681 ,  0.10723 ,  0.64385 ,  0.29556 ,  1.      ],\n",
        "       [ 1.      ,  0.67194 ,  0.2418  ,  0.83075 ,  0.42741 ,  1.      ],\n",
        "       [ 1.      ,  0.20619 ,  0.23321 ,  0.81004 ,  0.98691 ,  1.      ],\n",
        "       ..., \n",
        "       [ 1.      ,  0.93895 ,  0.93941 ,  0.72496 ,  0.95655 ,  1.      ],\n",
        "       [ 1.      ,  0.046136,  0.94413 ,  0.038311,  0.26812 , -1.      ],\n",
        "       [ 1.      ,  0.072491,  0.2242  ,  0.62592 ,  0.67238 ,  1.      ]])"
       ]
      }
     ],
     "prompt_number": 130
    },
    {
     "cell_type": "code",
     "collapsed": false,
     "input": [
      "for abc in data[0:4]:\n",
      "    print abc[0:5]\n",
      "    print abc[5]\n",
      "    break"
     ],
     "language": "python",
     "metadata": {},
     "outputs": [
      {
       "output_type": "stream",
       "stream": "stdout",
       "text": [
        "[ 1.       0.97681  0.10723  0.64385  0.29556]\n",
        "1.0\n"
       ]
      }
     ],
     "prompt_number": 131
    },
    {
     "cell_type": "code",
     "collapsed": false,
     "input": [
      "# np.random.seed( 3 )\n",
      "# print data\n",
      "# random_data = np.random.permutation(data)\n",
      "# print random_data\n",
      "# np.random.seed( 4 )\n",
      "# random_data = np.random.permutation(data)\n",
      "# print random_data\n",
      "\n",
      "ggg = True\n",
      "print data\n",
      "for i in range(3):\n",
      "        random_data = data\n",
      "        # random number generator\n",
      "        if ggg :\n",
      "            np.random.seed( i + 1 )\n",
      "            # shuffle data sequence\n",
      "            random_data = np.random.permutation(data)\n",
      "            print random_data"
     ],
     "language": "python",
     "metadata": {},
     "outputs": [
      {
       "output_type": "stream",
       "stream": "stdout",
       "text": [
        "[[ 1.        0.97681   0.10723   0.64385   0.29556   1.      ]\n",
        " [ 1.        0.67194   0.2418    0.83075   0.42741   1.      ]\n",
        " [ 1.        0.20619   0.23321   0.81004   0.98691   1.      ]\n",
        " ..., \n",
        " [ 1.        0.93895   0.93941   0.72496   0.95655   1.      ]\n",
        " [ 1.        0.046136  0.94413   0.038311  0.26812  -1.      ]\n",
        " [ 1.        0.072491  0.2242    0.62592   0.67238   1.      ]]\n",
        "[[ 1.        0.046136  0.94413   0.038311  0.26812  -1.      ]\n",
        " [ 1.        0.050727  0.19674   0.73473   0.48999   1.      ]\n",
        " [ 1.        0.31767   0.63018   0.37828   0.27766  -1.      ]\n",
        " ..., \n",
        " [ 1.        0.17528   0.2625    0.8306    0.029669 -1.      ]\n",
        " [ 1.        0.67525   0.86288   0.013998  0.28517  -1.      ]\n",
        " [ 1.        0.23881   0.7675    0.40806   0.074954 -1.      ]]\n",
        "[[ 1.        0.31049   0.58616   0.78657   0.077121 -1.      ]\n",
        " [ 1.        0.35449   0.22126   0.57224   0.4336    1.      ]\n",
        " [ 1.        0.93257   0.64968   0.24587   0.81109   1.      ]\n",
        " ..., \n",
        " [ 1.        0.31285   0.25044   0.46658   0.12074  -1.      ]\n",
        " [ 1.        0.8182    0.70052   0.67561   0.22231   1.      ]\n",
        " [ 1.        0.92475   0.60457   0.64656   0.93019   1.      ]]\n",
        "[[ 1.         0.26408    0.11281    0.021935   0.17689   -1.       ]\n",
        " [ 1.         0.3221     0.95754    0.99328    0.50757    1.       ]\n",
        " [ 1.         0.049532   0.54176    0.98792    0.89908    1.       ]\n",
        " ..., \n",
        " [ 1.         0.78474    0.0066151  0.22536    0.50022    1.       ]\n",
        " [ 1.         0.39259    0.89268    0.54155    0.0061404 -1.       ]\n",
        " [ 1.         0.68483    0.65517    0.49261    0.65511    1.       ]]\n"
       ]
      }
     ],
     "prompt_number": 149
    },
    {
     "cell_type": "code",
     "collapsed": true,
     "input": [
      "# PLA algorithms\n",
      "def pla_15(data,times,yida,boo_random):\n",
      "    np.random.seed(12345432)\n",
      "    update = []\n",
      "    \n",
      "    randint = np.random.randint(1,99999)\n",
      "    \n",
      "    for i in range(times):\n",
      "        \n",
      "        weights = [0., 0., 0., 0., 0.]\n",
      "        cycle = 0\n",
      "        random_data = data\n",
      "        \n",
      "        if boo_random :\n",
      "            # random number generator\n",
      "            np.random.seed( i + 1 + randint )\n",
      "            # shuffle data sequence\n",
      "            random_data = np.random.permutation(data)\n",
      "            \n",
      "        while True:\n",
      "            error_count = 0\n",
      "            for data_15 in random_data:\n",
      "        #         print(weights)\n",
      "                input_vector = data_15 [0:5]\n",
      "                desired_output = data_15 [5]\n",
      "                \n",
      "                result = np.dot(input_vector, weights)\n",
      "                sign = math.copysign(1,result)\n",
      "                \n",
      "                if result == 0 :\n",
      "                    sign = -1.\n",
      "        #         print sign\n",
      "                if sign == desired_output:\n",
      "                    continue\n",
      "                else :\n",
      "                    error_count += 1\n",
      "                    cycle += 1\n",
      "                    for index, value in enumerate(input_vector):\n",
      "        #                 print index, value\n",
      "                        weights[index] += yida*desired_output * value\n",
      "        #             print('-' * 30)\n",
      "        #             print cycle\n",
      "        #             print weights\n",
      "            if error_count == 0:\n",
      "                break\n",
      "        update.append(cycle)\n",
      "    \n",
      "    collect_update = np.array(update)\n",
      "    print collect_update\n",
      "    print 'Mean of updates per times::',np.mean(collect_update)\n",
      "    print weights\n",
      "        \n",
      "#     print 'Updates',cycle\n",
      "#     print(weights)\n"
     ],
     "language": "python",
     "metadata": {},
     "outputs": [],
     "prompt_number": 188
    },
    {
     "cell_type": "markdown",
     "metadata": {},
     "source": [
      "# Q 15:"
     ]
    },
    {
     "cell_type": "code",
     "collapsed": false,
     "input": [
      "# pla(data,times,yida,boo_random)\n",
      "pla_15(data,1,1,False)"
     ],
     "language": "python",
     "metadata": {},
     "outputs": [
      {
       "output_type": "stream",
       "stream": "stdout",
       "text": [
        "[45]\n",
        "Mean of updates per times:: 45.0\n",
        "[-3.0, 3.0841435999999995, -1.5830809999999997, 2.391305, 4.5287635000000002]\n"
       ]
      }
     ],
     "prompt_number": 189
    },
    {
     "cell_type": "markdown",
     "metadata": {},
     "source": [
      "# Q 16 :"
     ]
    },
    {
     "cell_type": "code",
     "collapsed": false,
     "input": [
      "pla_15(data,2000,1,True)"
     ],
     "language": "python",
     "metadata": {},
     "outputs": [
      {
       "output_type": "stream",
       "stream": "stdout",
       "text": [
        "[39 20 54 ..., 43 18 35]\n",
        "Mean of updates per times:: 39.8565\n",
        "[-3.0, 2.9771329999999998, -1.0261100000000005, 2.2501099999999994, 3.5435532799999994]\n"
       ]
      }
     ],
     "prompt_number": 190
    },
    {
     "cell_type": "markdown",
     "metadata": {},
     "source": [
      "# Q 17:"
     ]
    },
    {
     "cell_type": "code",
     "collapsed": false,
     "input": [
      "pla_15(data,2000,0.5,True)"
     ],
     "language": "python",
     "metadata": {},
     "outputs": [
      {
       "output_type": "stream",
       "stream": "stdout",
       "text": [
        "[39 20 54 ..., 43 18 35]\n",
        "Mean of updates per times:: 39.8565\n",
        "[-1.5, 1.4885664999999999, -0.51305500000000026, 1.1250549999999997, 1.7717766399999997]\n"
       ]
      }
     ],
     "prompt_number": 191
    },
    {
     "cell_type": "markdown",
     "metadata": {},
     "source": [
      "# Defined PLA pocket algorithms for Q18-Q20:"
     ]
    },
    {
     "cell_type": "code",
     "collapsed": false,
     "input": [
      "# read file as numpy array\n",
      "data_18_train = np.genfromtxt(\"./hw1_18_train.dat.txt\", dtype=float, delimiter='') \n",
      "data_18_train"
     ],
     "language": "python",
     "metadata": {},
     "outputs": [
      {
       "metadata": {},
       "output_type": "pyout",
       "prompt_number": 3,
       "text": [
        "array([[ 0.94544 ,  0.42842 ,  0.79833 ,  0.16244 , -1.      ],\n",
        "       [ 0.85365 ,  0.084168,  0.5682  ,  0.49221 , -1.      ],\n",
        "       [ 0.17095 ,  0.82127 ,  0.98444 ,  0.51486 , -1.      ],\n",
        "       ..., \n",
        "       [ 0.078827,  0.3823  ,  0.13965 ,  0.82677 ,  1.      ],\n",
        "       [ 0.92288 ,  0.86313 ,  0.22939 ,  0.92214 , -1.      ],\n",
        "       [ 0.50315 ,  0.41884 ,  0.026094,  0.91623 ,  1.      ]])"
       ]
      }
     ],
     "prompt_number": 3
    },
    {
     "cell_type": "code",
     "collapsed": false,
     "input": [
      "# read file as numpy array\n",
      "data_18_test = np.genfromtxt(\"./hw1_18_test.dat.txt\", dtype=float, delimiter='') \n",
      "data_18_test"
     ],
     "language": "python",
     "metadata": {},
     "outputs": [
      {
       "metadata": {},
       "output_type": "pyout",
       "prompt_number": 4,
       "text": [
        "array([[ 0.62926 ,  0.32783 ,  0.010417,  0.73102 ,  1.      ],\n",
        "       [ 0.32368 ,  0.61439 ,  0.42097 ,  0.025626, -1.      ],\n",
        "       [ 0.15968 ,  0.83346 ,  0.97515 ,  0.32762 , -1.      ],\n",
        "       ..., \n",
        "       [ 0.34445 ,  0.30929 ,  0.049222,  0.49242 , -1.      ],\n",
        "       [ 0.040789,  0.28334 ,  0.55817 ,  0.60612 ,  1.      ],\n",
        "       [ 0.36302 ,  0.34961 ,  0.12651 ,  0.54315 ,  1.      ]])"
       ]
      }
     ],
     "prompt_number": 4
    },
    {
     "cell_type": "code",
     "collapsed": false,
     "input": [
      "d_18_test = np.insert(data_18_test, 0, 1, axis=1)\n",
      "d_18_test"
     ],
     "language": "python",
     "metadata": {},
     "outputs": [
      {
       "metadata": {},
       "output_type": "pyout",
       "prompt_number": 5,
       "text": [
        "array([[ 1.      ,  0.62926 ,  0.32783 ,  0.010417,  0.73102 ,  1.      ],\n",
        "       [ 1.      ,  0.32368 ,  0.61439 ,  0.42097 ,  0.025626, -1.      ],\n",
        "       [ 1.      ,  0.15968 ,  0.83346 ,  0.97515 ,  0.32762 , -1.      ],\n",
        "       ..., \n",
        "       [ 1.      ,  0.34445 ,  0.30929 ,  0.049222,  0.49242 , -1.      ],\n",
        "       [ 1.      ,  0.040789,  0.28334 ,  0.55817 ,  0.60612 ,  1.      ],\n",
        "       [ 1.      ,  0.36302 ,  0.34961 ,  0.12651 ,  0.54315 ,  1.      ]])"
       ]
      }
     ],
     "prompt_number": 5
    },
    {
     "cell_type": "code",
     "collapsed": false,
     "input": [
      "d_18_train = np.insert(data_18_train, 0, 1, axis=1)\n",
      "d_18_train"
     ],
     "language": "python",
     "metadata": {},
     "outputs": [
      {
       "metadata": {},
       "output_type": "pyout",
       "prompt_number": 6,
       "text": [
        "array([[ 1.      ,  0.94544 ,  0.42842 ,  0.79833 ,  0.16244 , -1.      ],\n",
        "       [ 1.      ,  0.85365 ,  0.084168,  0.5682  ,  0.49221 , -1.      ],\n",
        "       [ 1.      ,  0.17095 ,  0.82127 ,  0.98444 ,  0.51486 , -1.      ],\n",
        "       ..., \n",
        "       [ 1.      ,  0.078827,  0.3823  ,  0.13965 ,  0.82677 ,  1.      ],\n",
        "       [ 1.      ,  0.92288 ,  0.86313 ,  0.22939 ,  0.92214 , -1.      ],\n",
        "       [ 1.      ,  0.50315 ,  0.41884 ,  0.026094,  0.91623 ,  1.      ]])"
       ]
      }
     ],
     "prompt_number": 6
    },
    {
     "cell_type": "code",
     "collapsed": false,
     "input": [
      "d_18_train[0,0:5]"
     ],
     "language": "python",
     "metadata": {},
     "outputs": [
      {
       "metadata": {},
       "output_type": "pyout",
       "prompt_number": 7,
       "text": [
        "array([ 1.     ,  0.94544,  0.42842,  0.79833,  0.16244])"
       ]
      }
     ],
     "prompt_number": 7
    },
    {
     "cell_type": "code",
     "collapsed": false,
     "input": [
      "def test_error(data_test, weight):\n",
      "    err = 0.\n",
      "    error_rate = 0.\n",
      "    \n",
      "    for data in data_test:\n",
      "        input_vector = data[0:5]\n",
      "        desired_output = data[5]\n",
      "        \n",
      "        result = np.dot(input_vector, weight)\n",
      "        sign = math.copysign(1,result)\n",
      "        \n",
      "        if result == 0 :\n",
      "                sign = -1.\n",
      "        if sign != desired_output:\n",
      "            err += 1.\n",
      "            continue\n",
      "    \n",
      "    error_rate = err/len(data_test)\n",
      "    return error_rate"
     ],
     "language": "python",
     "metadata": {},
     "outputs": [],
     "prompt_number": 8
    },
    {
     "cell_type": "code",
     "collapsed": false,
     "input": [
      "# PLA algorithms\n",
      "def pla_18(data,times,update_time,pocket_bool):\n",
      "    \n",
      "    error = []\n",
      "    record = []\n",
      "    \n",
      "    for i in range(times):\n",
      "        weights = [0., 0., 0., 0., 0.]\n",
      "        pocket = [0., 0., 0., 0., 0.]\n",
      "        cycle = 0\n",
      "        \n",
      "        pocket_record = 0\n",
      "        pocket_count = 0\n",
      "        \n",
      "        random_data = data\n",
      "        # random number generator\n",
      "        np.random.seed( i + 100 )\n",
      "\n",
      "        while True:\n",
      "#             print pocket,weights\n",
      "            error_count = 0\n",
      "                        \n",
      "            randint = np.random.randint(0,len(data))\n",
      "            \n",
      "            input_vector = data[randint,0:5]\n",
      "            desired_output = data[randint,5]\n",
      "            \n",
      "            result = np.dot(input_vector, weights)\n",
      "            sign = math.copysign(1,result)\n",
      "            \n",
      "            if result == 0 :\n",
      "                sign = -1.\n",
      "#             print sign,desired_output\n",
      "            if sign == desired_output:\n",
      "                pocket_count += 1\n",
      "#                 print 'count',pocket_count\n",
      "                continue\n",
      "            else :\n",
      "                error_count += 1\n",
      "                cycle += 1\n",
      "                \n",
      "                pocket_error = test_error(data,pocket)\n",
      "                now_error = test_error(data,weights)\n",
      "                \n",
      "                if pocket_error > now_error:\n",
      "#                 if pocket_count > pocket_record :\n",
      "                    pocket_record = pocket_count\n",
      "                    pocket_count = 0\n",
      "                    # not assigning to a same reference\n",
      "                    pocket = np.copy(weights)\n",
      "#                 print 'record',pocket_record\n",
      "#                 print pocket == weights\n",
      "                for index, value in enumerate(input_vector):\n",
      "                    weights[index] += desired_output * value\n",
      "                    \n",
      "#             if error_count == 0:\n",
      "#                 break\n",
      "            if cycle == update_time:\n",
      "                break\n",
      "#         print pocket,weights\n",
      "        if pocket_bool:\n",
      "#             print 'use pocket as weights'\n",
      "            err = test_error(d_18_test,pocket)\n",
      "        else:\n",
      "#             print 'use last weight as weights'\n",
      "            err = test_error(d_18_test,weights)\n",
      "        error.append(err)\n",
      "        record.append(pocket_record)\n",
      "#         print err,pocket_record,pocket,weights\n",
      "        \n",
      "    collect_error = np.array(error)\n",
      "    collect_record = np.array(record)\n",
      "    \n",
      "    print collect_error\n",
      "    print 'Mean of error per times::',np.mean(collect_error)\n",
      "    print collect_record\n",
      "    print 'Mean of record per times::',np.mean(collect_record)\n",
      "    \n",
      "        \n",
      "#     print 'Updates',cycle\n",
      "#     print(weights)\n"
     ],
     "language": "python",
     "metadata": {},
     "outputs": [],
     "prompt_number": 9
    },
    {
     "cell_type": "markdown",
     "metadata": {},
     "source": [
      "# Q 18 : use pocket as weights, update 50, repeat 2000"
     ]
    },
    {
     "cell_type": "code",
     "collapsed": false,
     "input": [
      "# pla_18(data,times,update_time,pocket_bool)\n",
      "# use pocket as weights\n",
      "%time pla_18(d_18_train,10,50,True)"
     ],
     "language": "python",
     "metadata": {},
     "outputs": [
      {
       "output_type": "stream",
       "stream": "stdout",
       "text": [
        "[ 0.126  0.146  0.144  0.148  0.136  0.188  0.1    0.118  0.116  0.156]\n",
        "Mean of error per times:: 0.1378\n",
        "[17 35 38 24  3  9 24 62 67 10]\n",
        "Mean of record per times:: 28.9\n",
        "CPU times: user 3.08 s, sys: 9.78 ms, total: 3.09 s\n",
        "Wall time: 3.09 s\n"
       ]
      }
     ],
     "prompt_number": 10
    },
    {
     "cell_type": "markdown",
     "metadata": {},
     "source": [
      "# Q19: use latest weights as weights, update 50, repeat 2000"
     ]
    },
    {
     "cell_type": "code",
     "collapsed": false,
     "input": [
      "# pla_18(data,times,update_time,pocket_bool)\n",
      "pla_18(d_18_train,100,50,False)"
     ],
     "language": "python",
     "metadata": {},
     "outputs": [
      {
       "output_type": "stream",
       "stream": "stdout",
       "text": [
        "[ 0.428  0.158  0.244  0.244  0.14   0.388  0.7    0.296  0.264  0.262\n",
        "  0.21   0.2    0.22   0.696  0.628  0.604  0.214  0.2    0.286  0.192\n",
        "  0.258  0.354  0.24   0.29   0.252  0.164  0.682  0.268  0.234  0.19\n",
        "  0.526  0.168  0.462  0.194  0.196  0.222  0.182  0.404  0.154  0.248\n",
        "  0.262  0.702  0.554  0.228  0.292  0.268  0.164  0.268  0.688  0.62\n",
        "  0.378  0.236  0.7    0.554  0.21   0.17   0.294  0.184  0.244  0.198\n",
        "  0.188  0.154  0.276  0.24   0.266  0.688  0.404  0.198  0.196  0.428\n",
        "  0.25   0.472  0.178  0.272  0.254  0.186  0.158  0.702  0.282  0.268\n",
        "  0.294  0.434  0.558  0.534  0.67   0.678  0.316  0.546  0.286  0.292\n",
        "  0.224  0.244  0.246  0.252  0.586  0.41   0.286  0.516  0.442  0.648]\n",
        "Mean of error per times:: 0.33998\n",
        "[ 17  35  38  24   3   9  24  62  67  10  33  20   6  84   7  15  35  34\n",
        "  11   6   3   1  21  83  16   3  42   2   8  27   4  24   1  12 121  28\n",
        "   5   8  46   2  18  17  54  22  15  35  18  70  83  10  47  36   6  38\n",
        "  16  16  10  77  21  39  15   7   7   4  29  26   8  41  33  18  12  60\n",
        "   1   3   0   4  21   4   4  11  32  32  42  46  22   5 103  14  40  18\n",
        "  35  10  11  34  13  10  43   3  10  41]\n",
        "Mean of record per times:: 25.17\n"
       ]
      }
     ],
     "prompt_number": 34
    },
    {
     "cell_type": "markdown",
     "metadata": {},
     "source": [
      "# Q20: use pocket as weights, update 100, repeat 2000"
     ]
    },
    {
     "cell_type": "code",
     "collapsed": false,
     "input": [
      "pla_18(d_18_train,10,100,True)"
     ],
     "language": "python",
     "metadata": {},
     "outputs": [
      {
       "output_type": "stream",
       "stream": "stdout",
       "text": [
        "[ 0.106  0.128  0.118  0.142  0.116  0.168  0.1    0.126  0.114  0.104]\n",
        "Mean of error per times:: 0.1222\n",
        "[112 157  20  64 116 114  24  14  16   9]\n",
        "Mean of record per times:: 64.6\n"
       ]
      }
     ],
     "prompt_number": 35
    },
    {
     "cell_type": "code",
     "collapsed": false,
     "input": [
      "pla_18(d_18_train,2000,100,False)"
     ],
     "language": "python",
     "metadata": {},
     "outputs": [
      {
       "output_type": "stream",
       "stream": "stdout",
       "text": [
        "[ 0.4    0.232  0.406 ...,  0.18   0.24   0.18 ]\n",
        "Mean of error per times:: 0.318046\n",
        "[51 51 40 ..., 61 53 42]\n",
        "Mean of record per times:: 49.6185\n"
       ]
      }
     ],
     "prompt_number": 233
    },
    {
     "cell_type": "code",
     "collapsed": false,
     "input": [
      "%time print 1"
     ],
     "language": "python",
     "metadata": {},
     "outputs": [
      {
       "output_type": "stream",
       "stream": "stdout",
       "text": [
        "1\n",
        "CPU times: user 45 \u00b5s, sys: 10 \u00b5s, total: 55 \u00b5s\n",
        "Wall time: 54.1 \u00b5s\n"
       ]
      }
     ],
     "prompt_number": 1
    },
    {
     "cell_type": "code",
     "collapsed": false,
     "input": [],
     "language": "python",
     "metadata": {},
     "outputs": []
    }
   ],
   "metadata": {}
  }
 ]
}