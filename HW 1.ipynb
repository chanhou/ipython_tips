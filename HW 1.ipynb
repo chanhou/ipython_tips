{
 "metadata": {
  "name": ""
 },
 "nbformat": 3,
 "nbformat_minor": 0,
 "worksheets": [
  {
   "cells": [
    {
     "cell_type": "code",
     "collapsed": false,
     "input": [
      "# import plugin\n",
      "import numpy as np\n",
      "import pandas as pd\n",
      "import math "
     ],
     "language": "python",
     "metadata": {},
     "outputs": [],
     "prompt_number": 90
    },
    {
     "cell_type": "markdown",
     "metadata": {},
     "source": [
      "# Define PLA algorithms for Q15-17:"
     ]
    },
    {
     "cell_type": "raw",
     "metadata": {},
     "source": [
      "# read file \n",
      "\n",
      "train_15 = pd.read_csv(\"./hw1_15_train.dat.txt\",delim_whitespace=True,header=None,names=['x1', 'x2', 'x3' ,'x4','label'])"
     ]
    },
    {
     "cell_type": "raw",
     "metadata": {},
     "source": [
      "train_15.head()"
     ]
    },
    {
     "cell_type": "raw",
     "metadata": {},
     "source": [
      "train_15[:1]"
     ]
    },
    {
     "cell_type": "code",
     "collapsed": false,
     "input": [
      "# read file as numpy array\n",
      "data_1 = np.genfromtxt(\"./hw1_15_train.dat.txt\", dtype=float, delimiter='') "
     ],
     "language": "python",
     "metadata": {},
     "outputs": [],
     "prompt_number": 91
    },
    {
     "cell_type": "code",
     "collapsed": false,
     "input": [
      "# data[1][0]\n",
      "# data[:,0:3]\n",
      "data_1[0:10]"
     ],
     "language": "python",
     "metadata": {},
     "outputs": [
      {
       "metadata": {},
       "output_type": "pyout",
       "prompt_number": 92,
       "text": [
        "array([[ 0.97681 ,  0.10723 ,  0.64385 ,  0.29556 ,  1.      ],\n",
        "       [ 0.67194 ,  0.2418  ,  0.83075 ,  0.42741 ,  1.      ],\n",
        "       [ 0.20619 ,  0.23321 ,  0.81004 ,  0.98691 ,  1.      ],\n",
        "       [ 0.51583 ,  0.055814,  0.92274 ,  0.75797 ,  1.      ],\n",
        "       [ 0.70893 ,  0.10836 ,  0.33951 ,  0.77058 ,  1.      ],\n",
        "       [ 0.55743 ,  0.67804 ,  0.061044,  0.72689 ,  1.      ],\n",
        "       [ 0.15654 ,  0.75584 ,  0.01122 ,  0.42598 , -1.      ],\n",
        "       [ 0.50462 ,  0.15137 ,  0.33878 ,  0.41881 ,  1.      ],\n",
        "       [ 0.22657 ,  0.59272 ,  0.24103 ,  0.46221 , -1.      ],\n",
        "       [ 0.49174 ,  0.65115 ,  0.24622 ,  0.24796 , -1.      ]])"
       ]
      }
     ],
     "prompt_number": 92
    },
    {
     "cell_type": "code",
     "collapsed": false,
     "input": [
      "# math.copysign(1,-1)\n",
      "\n",
      "# insert feature x0 to data\n",
      "data = np.insert(data_1, 0, 1, axis=1)\n",
      "data"
     ],
     "language": "python",
     "metadata": {},
     "outputs": [
      {
       "metadata": {},
       "output_type": "pyout",
       "prompt_number": 93,
       "text": [
        "array([[ 1.      ,  0.97681 ,  0.10723 ,  0.64385 ,  0.29556 ,  1.      ],\n",
        "       [ 1.      ,  0.67194 ,  0.2418  ,  0.83075 ,  0.42741 ,  1.      ],\n",
        "       [ 1.      ,  0.20619 ,  0.23321 ,  0.81004 ,  0.98691 ,  1.      ],\n",
        "       ..., \n",
        "       [ 1.      ,  0.93895 ,  0.93941 ,  0.72496 ,  0.95655 ,  1.      ],\n",
        "       [ 1.      ,  0.046136,  0.94413 ,  0.038311,  0.26812 , -1.      ],\n",
        "       [ 1.      ,  0.072491,  0.2242  ,  0.62592 ,  0.67238 ,  1.      ]])"
       ]
      }
     ],
     "prompt_number": 93
    },
    {
     "cell_type": "code",
     "collapsed": false,
     "input": [
      "for abc in data[0:4]:\n",
      "    print abc[0:5]\n",
      "    print abc[5]\n",
      "    break"
     ],
     "language": "python",
     "metadata": {},
     "outputs": [
      {
       "output_type": "stream",
       "stream": "stdout",
       "text": [
        "[ 1.       0.97681  0.10723  0.64385  0.29556]\n",
        "1.0\n"
       ]
      }
     ],
     "prompt_number": 94
    },
    {
     "cell_type": "code",
     "collapsed": false,
     "input": [
      "# np.random.seed( 3 )\n",
      "# print data\n",
      "# random_data = np.random.permutation(data)\n",
      "# print random_data\n",
      "# np.random.seed( 4 )\n",
      "# random_data = np.random.permutation(data)\n",
      "# print random_data\n",
      "\n",
      "ggg = True\n",
      "print data\n",
      "for i in range(3):\n",
      "        random_data = data\n",
      "        # random number generator\n",
      "        if ggg :\n",
      "            np.random.seed( i + 1 )\n",
      "            # shuffle data sequence\n",
      "            random_data = np.random.permutation(data)\n",
      "            print random_data"
     ],
     "language": "python",
     "metadata": {},
     "outputs": [
      {
       "output_type": "stream",
       "stream": "stdout",
       "text": [
        "[[ 1.        0.97681   0.10723   0.64385   0.29556   1.      ]\n",
        " [ 1.        0.67194   0.2418    0.83075   0.42741   1.      ]\n",
        " [ 1.        0.20619   0.23321   0.81004   0.98691   1.      ]\n",
        " ..., \n",
        " [ 1.        0.93895   0.93941   0.72496   0.95655   1.      ]\n",
        " [ 1.        0.046136  0.94413   0.038311  0.26812  -1.      ]\n",
        " [ 1.        0.072491  0.2242    0.62592   0.67238   1.      ]]\n",
        "[[ 1.        0.046136  0.94413   0.038311  0.26812  -1.      ]\n",
        " [ 1.        0.050727  0.19674   0.73473   0.48999   1.      ]\n",
        " [ 1.        0.31767   0.63018   0.37828   0.27766  -1.      ]\n",
        " ..., \n",
        " [ 1.        0.17528   0.2625    0.8306    0.029669 -1.      ]\n",
        " [ 1.        0.67525   0.86288   0.013998  0.28517  -1.      ]\n",
        " [ 1.        0.23881   0.7675    0.40806   0.074954 -1.      ]]\n",
        "[[ 1.        0.31049   0.58616   0.78657   0.077121 -1.      ]\n",
        " [ 1.        0.35449   0.22126   0.57224   0.4336    1.      ]\n",
        " [ 1.        0.93257   0.64968   0.24587   0.81109   1.      ]\n",
        " ..., \n",
        " [ 1.        0.31285   0.25044   0.46658   0.12074  -1.      ]\n",
        " [ 1.        0.8182    0.70052   0.67561   0.22231   1.      ]\n",
        " [ 1.        0.92475   0.60457   0.64656   0.93019   1.      ]]\n",
        "[[ 1.         0.26408    0.11281    0.021935   0.17689   -1.       ]\n",
        " [ 1.         0.3221     0.95754    0.99328    0.50757    1.       ]\n",
        " [ 1.         0.049532   0.54176    0.98792    0.89908    1.       ]\n",
        " ..., \n",
        " [ 1.         0.78474    0.0066151  0.22536    0.50022    1.       ]\n",
        " [ 1.         0.39259    0.89268    0.54155    0.0061404 -1.       ]\n",
        " [ 1.         0.68483    0.65517    0.49261    0.65511    1.       ]]\n"
       ]
      }
     ],
     "prompt_number": 95
    },
    {
     "cell_type": "markdown",
     "metadata": {},
     "source": [
      "## PLA algorithms for Q15-17 implement:"
     ]
    },
    {
     "cell_type": "code",
     "collapsed": true,
     "input": [
      "# PLA algorithms\n",
      "def pla_15(data,times,yida,boo_random):\n",
      "    np.random.seed(12345432)\n",
      "    update = []\n",
      "    \n",
      "    randint = np.random.randint(1,99999)\n",
      "    \n",
      "    for i in range(times):\n",
      "        \n",
      "        weights = [0., 0., 0., 0., 0.]\n",
      "        cycle = 0\n",
      "        random_data = data\n",
      "        \n",
      "        if boo_random :\n",
      "            # random number generator\n",
      "            np.random.seed( i + 1 + randint )\n",
      "            # shuffle data sequence\n",
      "            random_data = np.random.permutation(data)\n",
      "            \n",
      "        while True:\n",
      "            error_count = 0\n",
      "            for data_15 in random_data:\n",
      "        #         print(weights)\n",
      "                input_vector = data_15 [0:5]\n",
      "                desired_output = data_15 [5]\n",
      "                \n",
      "                result = np.dot(input_vector, weights)\n",
      "                sign = math.copysign(1,result)\n",
      "                \n",
      "                if result == 0 :\n",
      "                    sign = -1.\n",
      "        #         print sign\n",
      "                if sign == desired_output:\n",
      "                    continue\n",
      "                else :\n",
      "                    error_count += 1\n",
      "                    cycle += 1\n",
      "                    for index, value in enumerate(input_vector):\n",
      "        #                 print index, value\n",
      "                        weights[index] += yida*desired_output * value\n",
      "        #             print('-' * 30)\n",
      "        #             print cycle\n",
      "        #             print weights\n",
      "            if error_count == 0:\n",
      "                break\n",
      "        update.append(cycle)\n",
      "    \n",
      "    collect_update = np.array(update)\n",
      "    print collect_update\n",
      "    print 'Mean of updates per times::',np.mean(collect_update)\n",
      "    print weights\n",
      "        \n",
      "#     print 'Updates',cycle\n",
      "#     print(weights)\n"
     ],
     "language": "python",
     "metadata": {},
     "outputs": [],
     "prompt_number": 96
    },
    {
     "cell_type": "markdown",
     "metadata": {},
     "source": [
      "# Q 15:"
     ]
    },
    {
     "cell_type": "code",
     "collapsed": false,
     "input": [
      "# pla(data,times,yida,boo_random)\n",
      "%time pla_15(data,1,1,False)"
     ],
     "language": "python",
     "metadata": {},
     "outputs": [
      {
       "output_type": "stream",
       "stream": "stdout",
       "text": [
        "[45]\n",
        "Mean of updates per times:: 45.0\n",
        "[-3.0, 3.0841435999999995, -1.5830809999999997, 2.391305, 4.5287635000000002]\n",
        "CPU times: user 21.3 ms, sys: 0 ns, total: 21.3 ms\n",
        "Wall time: 23.6 ms\n"
       ]
      }
     ],
     "prompt_number": 97
    },
    {
     "cell_type": "markdown",
     "metadata": {},
     "source": [
      "# Q 16 :"
     ]
    },
    {
     "cell_type": "code",
     "collapsed": false,
     "input": [
      "%time pla_15(data,2000,1,True)"
     ],
     "language": "python",
     "metadata": {},
     "outputs": [
      {
       "output_type": "stream",
       "stream": "stdout",
       "text": [
        "[39 20 54 ..., 43 18 35]\n",
        "Mean of updates per times:: 39.8565\n",
        "[-3.0, 2.9771329999999998, -1.0261100000000005, 2.2501099999999994, 3.5435532799999994]\n",
        "CPU times: user 18.8 s, sys: 7.92 ms, total: 18.8 s\n",
        "Wall time: 18.8 s\n"
       ]
      }
     ],
     "prompt_number": 98
    },
    {
     "cell_type": "markdown",
     "metadata": {},
     "source": [
      "# Q 17:"
     ]
    },
    {
     "cell_type": "code",
     "collapsed": false,
     "input": [
      "%time pla_15(data,2000,0.5,True)"
     ],
     "language": "python",
     "metadata": {},
     "outputs": [
      {
       "output_type": "stream",
       "stream": "stdout",
       "text": [
        "[39 20 54 ..., 43 18 35]\n",
        "Mean of updates per times:: 39.8565\n",
        "[-1.5, 1.4885664999999999, -0.51305500000000026, 1.1250549999999997, 1.7717766399999997]\n",
        "CPU times: user 18.5 s, sys: 7.94 ms, total: 18.5 s\n",
        "Wall time: 18.5 s\n"
       ]
      }
     ],
     "prompt_number": 99
    },
    {
     "cell_type": "markdown",
     "metadata": {},
     "source": [
      "# Defined PLA pocket algorithms for Q18-Q20:"
     ]
    },
    {
     "cell_type": "code",
     "collapsed": false,
     "input": [
      "# read file as numpy array\n",
      "data_18_train = np.genfromtxt(\"./hw1_18_train.dat.txt\", dtype=float, delimiter='') \n",
      "data_18_train"
     ],
     "language": "python",
     "metadata": {},
     "outputs": [
      {
       "metadata": {},
       "output_type": "pyout",
       "prompt_number": 100,
       "text": [
        "array([[ 0.94544 ,  0.42842 ,  0.79833 ,  0.16244 , -1.      ],\n",
        "       [ 0.85365 ,  0.084168,  0.5682  ,  0.49221 , -1.      ],\n",
        "       [ 0.17095 ,  0.82127 ,  0.98444 ,  0.51486 , -1.      ],\n",
        "       ..., \n",
        "       [ 0.078827,  0.3823  ,  0.13965 ,  0.82677 ,  1.      ],\n",
        "       [ 0.92288 ,  0.86313 ,  0.22939 ,  0.92214 , -1.      ],\n",
        "       [ 0.50315 ,  0.41884 ,  0.026094,  0.91623 ,  1.      ]])"
       ]
      }
     ],
     "prompt_number": 100
    },
    {
     "cell_type": "code",
     "collapsed": false,
     "input": [
      "# read file as numpy array\n",
      "data_18_test = np.genfromtxt(\"./hw1_18_test.dat.txt\", dtype=float, delimiter='') \n",
      "data_18_test"
     ],
     "language": "python",
     "metadata": {},
     "outputs": [
      {
       "metadata": {},
       "output_type": "pyout",
       "prompt_number": 101,
       "text": [
        "array([[ 0.62926 ,  0.32783 ,  0.010417,  0.73102 ,  1.      ],\n",
        "       [ 0.32368 ,  0.61439 ,  0.42097 ,  0.025626, -1.      ],\n",
        "       [ 0.15968 ,  0.83346 ,  0.97515 ,  0.32762 , -1.      ],\n",
        "       ..., \n",
        "       [ 0.34445 ,  0.30929 ,  0.049222,  0.49242 , -1.      ],\n",
        "       [ 0.040789,  0.28334 ,  0.55817 ,  0.60612 ,  1.      ],\n",
        "       [ 0.36302 ,  0.34961 ,  0.12651 ,  0.54315 ,  1.      ]])"
       ]
      }
     ],
     "prompt_number": 101
    },
    {
     "cell_type": "code",
     "collapsed": false,
     "input": [
      "d_18_test = np.insert(data_18_test, 0, 1, axis=1)\n",
      "d_18_test"
     ],
     "language": "python",
     "metadata": {},
     "outputs": [
      {
       "metadata": {},
       "output_type": "pyout",
       "prompt_number": 102,
       "text": [
        "array([[ 1.      ,  0.62926 ,  0.32783 ,  0.010417,  0.73102 ,  1.      ],\n",
        "       [ 1.      ,  0.32368 ,  0.61439 ,  0.42097 ,  0.025626, -1.      ],\n",
        "       [ 1.      ,  0.15968 ,  0.83346 ,  0.97515 ,  0.32762 , -1.      ],\n",
        "       ..., \n",
        "       [ 1.      ,  0.34445 ,  0.30929 ,  0.049222,  0.49242 , -1.      ],\n",
        "       [ 1.      ,  0.040789,  0.28334 ,  0.55817 ,  0.60612 ,  1.      ],\n",
        "       [ 1.      ,  0.36302 ,  0.34961 ,  0.12651 ,  0.54315 ,  1.      ]])"
       ]
      }
     ],
     "prompt_number": 102
    },
    {
     "cell_type": "code",
     "collapsed": false,
     "input": [
      "d_18_train = np.insert(data_18_train, 0, 1, axis=1)\n",
      "d_18_train[:,0:5]"
     ],
     "language": "python",
     "metadata": {},
     "outputs": [
      {
       "metadata": {},
       "output_type": "pyout",
       "prompt_number": 103,
       "text": [
        "array([[ 1.      ,  0.94544 ,  0.42842 ,  0.79833 ,  0.16244 ],\n",
        "       [ 1.      ,  0.85365 ,  0.084168,  0.5682  ,  0.49221 ],\n",
        "       [ 1.      ,  0.17095 ,  0.82127 ,  0.98444 ,  0.51486 ],\n",
        "       ..., \n",
        "       [ 1.      ,  0.078827,  0.3823  ,  0.13965 ,  0.82677 ],\n",
        "       [ 1.      ,  0.92288 ,  0.86313 ,  0.22939 ,  0.92214 ],\n",
        "       [ 1.      ,  0.50315 ,  0.41884 ,  0.026094,  0.91623 ]])"
       ]
      }
     ],
     "prompt_number": 103
    },
    {
     "cell_type": "code",
     "collapsed": false,
     "input": [
      "check = np.dot(d_18_train[:,0:5],np.transpose([1.,2.,3.,4.,5.])) - d_18_train[:,5]\n",
      "# check[:]\n",
      "check[check > 0] = 1\n",
      "check[check < 0] = -1\n",
      "# check[:]\n",
      "# np.count_nonzero(check)\n",
      "print (1.0*len(check))"
     ],
     "language": "python",
     "metadata": {},
     "outputs": [
      {
       "output_type": "stream",
       "stream": "stdout",
       "text": [
        "500.0\n"
       ]
      }
     ],
     "prompt_number": 104
    },
    {
     "cell_type": "markdown",
     "metadata": {},
     "source": [
      "## Error function implement:"
     ]
    },
    {
     "cell_type": "code",
     "collapsed": false,
     "input": [
      "def test_error(data_test, weight):\n",
      "    err = 0.\n",
      "    error_rate = 0.\n",
      "    \n",
      "\n",
      "    input_vector = data_test[:,0:5]\n",
      "    desired_output = data_test[:,5]\n",
      "    \n",
      "    result = np.dot(input_vector, np.transpose(weight))\n",
      "    result[result >0 ] = 1\n",
      "    result[result <0 ] = -1\n",
      "    result[result ==0 ] = -1\n",
      "    \n",
      "    # if predict correct then result = 1 - (-1) = 2\n",
      "    #                                 pre  label  \n",
      "    result = result - desired_output\n",
      "    \n",
      "    # counting result is error\n",
      "    err = np.count_nonzero(result)\n",
      "    \n",
      "    error_rate = (1.0*err)/len(data_test)\n",
      "    return error_rate"
     ],
     "language": "python",
     "metadata": {},
     "outputs": [],
     "prompt_number": 105
    },
    {
     "cell_type": "markdown",
     "metadata": {},
     "source": [
      "## PLA algorithms for Q18-20 implement:"
     ]
    },
    {
     "cell_type": "code",
     "collapsed": false,
     "input": [
      "# PLA algorithms\n",
      "def pla_18(data,times,update_time,pocket_bool):\n",
      "    \n",
      "    error = []\n",
      "    record = []\n",
      "    \n",
      "    for i in range(times):\n",
      "        weights = [0., 0., 0., 0., 0.]\n",
      "        pocket = [0., 0., 0., 0., 0.]\n",
      "        cycle = 0\n",
      "        \n",
      "        pocket_record = 0\n",
      "        pocket_count = 0\n",
      "        pocket_pocket = False\n",
      "        \n",
      "        random_data = data\n",
      "        # random number generator\n",
      "        np.random.seed( i + 100 )\n",
      "\n",
      "        while True:\n",
      "            error_count = 0\n",
      "                        \n",
      "            randint = np.random.randint(0,len(data))\n",
      "            \n",
      "            input_vector = data[randint,0:5]\n",
      "            desired_output = data[randint,5]\n",
      "            \n",
      "            result = np.dot(input_vector, weights)\n",
      "            sign = math.copysign(1,result)\n",
      "            \n",
      "            if result == 0 :\n",
      "                sign = -1.\n",
      "            if sign == desired_output:\n",
      "                pocket_count += 1\n",
      "                continue\n",
      "            else :\n",
      "                #error_count += 1\n",
      "                \n",
      "                for index, value in enumerate(input_vector):\n",
      "                    weights[index] += desired_output * value\n",
      "                \n",
      "                now_error = test_error(data,weights)\n",
      "                \n",
      "                if cycle == 0 :\n",
      "                    # first time initiate\n",
      "                    pocket = np.copy(weights)\n",
      "                    pocket_error = now_error\n",
      "                else :\n",
      "                    if pocket_error > now_error:\n",
      "                        pocket_record = pocket_count\n",
      "                        pocket_count = 0\n",
      "                        # not assigning to a same reference\n",
      "                        pocket = np.copy(weights)\n",
      "                        pocket_error = now_error\n",
      "                cycle += 1\n",
      "                    \n",
      "#             if error_count == 0:\n",
      "#                 break\n",
      "            if cycle == update_time:\n",
      "                break\n",
      "            \n",
      "        if pocket_bool:\n",
      "#             print 'use pocket as weights'\n",
      "            err = test_error(d_18_test,pocket)\n",
      "        else:\n",
      "#             print 'use last weight as weights'\n",
      "            err = test_error(d_18_test,weights)\n",
      "        error.append(err)\n",
      "        record.append(pocket_record)\n",
      "#         print err,pocket_record,pocket,weights\n",
      "        \n",
      "    collect_error = np.array(error)\n",
      "    collect_record = np.array(record)\n",
      "    \n",
      "    print collect_error\n",
      "    print 'Mean of error per times::',np.mean(collect_error)\n",
      "    print collect_record\n",
      "    print 'Mean of record per times::',np.mean(collect_record)\n",
      "        \n",
      "#     print 'Updates',cycle\n",
      "#     print(weights)\n"
     ],
     "language": "python",
     "metadata": {},
     "outputs": [],
     "prompt_number": 106
    },
    {
     "cell_type": "markdown",
     "metadata": {},
     "source": [
      "# Q 18 : use pocket as weights, update 50, repeat 2000"
     ]
    },
    {
     "cell_type": "code",
     "collapsed": false,
     "input": [
      "# pla_18(data,times,update_time,pocket_bool)\n",
      "# use pocket as weights\n",
      "%time pla_18(d_18_train,2000,50,True)"
     ],
     "language": "python",
     "metadata": {},
     "outputs": [
      {
       "output_type": "stream",
       "stream": "stdout",
       "text": [
        "[ 0.126  0.146  0.144 ...,  0.144  0.142  0.108]\n",
        "Mean of error per times:: 0.132617\n",
        "[13 20 29 ..., 14 32 20]\n",
        "Mean of record per times:: 25.097\n",
        "CPU times: user 12.9 s, sys: 3.95 ms, total: 12.9 s\n",
        "Wall time: 12.9 s\n"
       ]
      }
     ],
     "prompt_number": 107
    },
    {
     "cell_type": "markdown",
     "metadata": {},
     "source": [
      "# Q19: use last update weights as weights, update 50, repeat 2000"
     ]
    },
    {
     "cell_type": "code",
     "collapsed": false,
     "input": [
      "# pla_18(data,times,update_time,pocket_bool)\n",
      "%time pla_18(d_18_train,2000,50,False)"
     ],
     "language": "python",
     "metadata": {},
     "outputs": [
      {
       "output_type": "stream",
       "stream": "stdout",
       "text": [
        "[ 0.428  0.158  0.244 ...,  0.566  0.168  0.51 ]\n",
        "Mean of error per times:: 0.364766\n",
        "[13 20 29 ..., 14 32 20]\n",
        "Mean of record per times:: 25.097\n",
        "CPU times: user 12.8 s, sys: 0 ns, total: 12.8 s\n",
        "Wall time: 12.8 s\n"
       ]
      }
     ],
     "prompt_number": 108
    },
    {
     "cell_type": "markdown",
     "metadata": {},
     "source": [
      "# Q20: use pocket as weights, update 100, repeat 2000"
     ]
    },
    {
     "cell_type": "code",
     "collapsed": false,
     "input": [
      "# pla_18(data,times,update_time,pocket_bool)\n",
      "%time pla_18(d_18_train,2000,100,True)"
     ],
     "language": "python",
     "metadata": {},
     "outputs": [
      {
       "output_type": "stream",
       "stream": "stdout",
       "text": [
        "[ 0.106  0.128  0.118 ...,  0.106  0.136  0.108]\n",
        "Mean of error per times:: 0.115658\n",
        "[110 167  20 ...,  17  76  20]\n",
        "Mean of record per times:: 54.0845\n",
        "CPU times: user 26.3 s, sys: 0 ns, total: 26.3 s\n",
        "Wall time: 26.4 s\n"
       ]
      }
     ],
     "prompt_number": 109
    },
    {
     "cell_type": "code",
     "collapsed": false,
     "input": [],
     "language": "python",
     "metadata": {},
     "outputs": []
    }
   ],
   "metadata": {}
  }
 ]
}