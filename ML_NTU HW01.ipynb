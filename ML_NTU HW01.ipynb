{
 "metadata": {
  "name": ""
 },
 "nbformat": 3,
 "nbformat_minor": 0,
 "worksheets": [
  {
   "cells": [
    {
     "cell_type": "heading",
     "level": 1,
     "metadata": {},
     "source": [
      "# HW 01 : PLA Algorithm"
     ]
    },
    {
     "cell_type": "heading",
     "level": 2,
     "metadata": {},
     "source": [
      "1. Implement PLA"
     ]
    },
    {
     "cell_type": "code",
     "collapsed": false,
     "input": [
      "# wikipedia example\n",
      "\n",
      "threshold = 0.5\n",
      "learning_rate = 0.1\n",
      "weights = [0, 0, 0]\n",
      "training_set = [((1, 0, 0), 1), ((1, 0, 1), 1), ((1, 1, 0), 1), ((1, 1, 1), 0)]\n",
      "\n",
      "def dot_product(values, weights):\n",
      "    return sum(value * weight for value, weight in zip(values, weights))\n",
      " \n",
      "while True:\n",
      "    print('-' * 60)\n",
      "    error_count = 0\n",
      "    for input_vector, desired_output in training_set:\n",
      "        print(weights)\n",
      "        result = dot_product(input_vector, weights) > threshold\n",
      "        print result\n",
      "        error = desired_output - result\n",
      "        if error != 0:\n",
      "            error_count += 1\n",
      "            for index, value in enumerate(input_vector):\n",
      "                weights[index] += learning_rate * error * value\n",
      "    if error_count == 0:\n",
      "        break"
     ],
     "language": "python",
     "metadata": {},
     "outputs": []
    },
    {
     "cell_type": "code",
     "collapsed": false,
     "input": [
      "%pylab inline\n",
      "import numpy as np\n",
      "\n",
      "A = np.array([1,2,3,4,5])\n",
      "A"
     ],
     "language": "python",
     "metadata": {},
     "outputs": []
    },
    {
     "cell_type": "code",
     "collapsed": false,
     "input": [
      "# inner product\n",
      "np.dot(A, A)"
     ],
     "language": "python",
     "metadata": {},
     "outputs": [
      {
       "metadata": {},
       "output_type": "pyout",
       "prompt_number": 39,
       "text": [
        "55"
       ]
      }
     ],
     "prompt_number": 39
    },
    {
     "cell_type": "code",
     "collapsed": false,
     "input": [
      "math.copysign(1,-4)"
     ],
     "language": "python",
     "metadata": {},
     "outputs": [
      {
       "metadata": {},
       "output_type": "pyout",
       "prompt_number": 51,
       "text": [
        "-1.0"
       ]
      }
     ],
     "prompt_number": 51
    },
    {
     "cell_type": "code",
     "collapsed": false,
     "input": [
      "weights = [0, 0, 0]\n",
      "training_set = [((1, 0, 0), 1), ((3, 4, 3), -1), ((1, 1, 0), 1), ((3, 3, 3), -1)]\n",
      "\n",
      "while True:\n",
      "    print('-' * 60)\n",
      "    error_count = 0\n",
      "    for input_vector, desired_output in training_set:\n",
      "        print(weights)\n",
      "        result = np.dot(input_vector, weights)\n",
      "        sign = math.copysign(1,result)\n",
      "#         print sign == desired_output\n",
      "        if sign == desired_output:\n",
      "            continue\n",
      "        else :\n",
      "            error_count += 1\n",
      "            for index, value in enumerate(input_vector):\n",
      "                weights[index] += desired_output * value\n",
      "    if error_count == 0:\n",
      "        break"
     ],
     "language": "python",
     "metadata": {},
     "outputs": [
      {
       "output_type": "stream",
       "stream": "stdout",
       "text": [
        "------------------------------------------------------------\n",
        "[0, 0, 0]\n",
        "True\n",
        "[0, 0, 0]\n",
        "False\n",
        "[-3, -4, -3]\n",
        "False\n",
        "[-2, -3, -3]\n",
        "True\n",
        "------------------------------------------------------------\n",
        "[-2, -3, -3]\n",
        "False\n",
        "[-1, -3, -3]\n",
        "True\n",
        "[-1, -3, -3]\n",
        "False\n",
        "[0, -2, -3]\n",
        "True\n",
        "------------------------------------------------------------\n",
        "[0, -2, -3]\n",
        "True\n",
        "[0, -2, -3]\n",
        "True\n",
        "[0, -2, -3]\n",
        "False\n",
        "[1, -1, -3]\n",
        "True\n",
        "------------------------------------------------------------\n",
        "[1, -1, -3]\n",
        "True\n",
        "[1, -1, -3]\n",
        "True\n",
        "[1, -1, -3]\n",
        "True\n",
        "[1, -1, -3]\n",
        "True\n"
       ]
      }
     ],
     "prompt_number": 46
    },
    {
     "cell_type": "code",
     "collapsed": false,
     "input": [],
     "language": "python",
     "metadata": {},
     "outputs": []
    }
   ],
   "metadata": {}
  }
 ]
}