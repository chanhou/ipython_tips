{
 "metadata": {
  "celltoolbar": "Slideshow",
  "kernelspec": {
   "codemirror_mode": {
    "name": "ipython",
    "version": 3
   },
   "display_name": "IPython (Python 3)",
   "language": "python",
   "name": "python3"
  },
  "name": "",
  "signature": "sha256:d239bbfc7c2a3be81c42a1465324c8eb567e67e0e12ae1127c63a846dd5196a8"
 },
 "nbformat": 3,
 "nbformat_minor": 0,
 "worksheets": [
  {
   "cells": [
    {
     "cell_type": "markdown",
     "metadata": {
      "slideshow": {
       "slide_type": "slide"
      }
     },
     "source": [
      "# Scikit-Learn - Grid Search CV\n",
      "\n",
      "<http://scikit-learn.org/0.13/modules/generated/sklearn.grid_search.GridSearchCV.html#sklearn.grid_search.GridSearchCV>"
     ]
    },
    {
     "cell_type": "markdown",
     "metadata": {
      "slideshow": {
       "slide_type": "slide"
      }
     },
     "source": [
      "# *** Proejct: Try your own parameters ***"
     ]
    },
    {
     "cell_type": "markdown",
     "metadata": {
      "slideshow": {
       "slide_type": "slide"
      }
     },
     "source": [
      "# 1. Prepare the data"
     ]
    },
    {
     "cell_type": "code",
     "collapsed": false,
     "input": [
      "import pandas as pd\n",
      "from sklearn import cross_validation as cv\n",
      "from sklearn import svm\n",
      "from sklearn import metrics\n",
      "\n",
      "X = pd.read_csv('data/dslondon/train.csv', header=None).values\n",
      "y = pd.read_csv('data/dslondon/trainLabels.csv', header=None).values[:,0]\n",
      "X_train, X_test, y_train, y_test = cv.train_test_split(X, y, test_size=0.1)"
     ],
     "language": "python",
     "metadata": {},
     "outputs": [],
     "prompt_number": 9
    },
    {
     "cell_type": "markdown",
     "metadata": {
      "slideshow": {
       "slide_type": "slide"
      }
     },
     "source": [
      "# 2. Set you parameters!!!"
     ]
    },
    {
     "cell_type": "code",
     "collapsed": false,
     "input": [
      "import numpy as np\n",
      "\n",
      "c_range = 10.0 ** np.arange(6, 9)\n",
      "gamma_range = 10.0 ** np.arange(-2, 2)\n",
      "params = [{'kernel': ['rbf'], 'gamma': gamma_range, 'C': c_range}]\n",
      "\n",
      "print('C     : %s' % c_range)\n",
      "print('gamma : %s' % gamma_range)\n",
      "print('kernel: %s' % ['rbf'])"
     ],
     "language": "python",
     "metadata": {},
     "outputs": [
      {
       "output_type": "stream",
       "stream": "stdout",
       "text": [
        "C     : [  1.00000000e+06   1.00000000e+07   1.00000000e+08]\n",
        "gamma : [  0.01   0.1    1.    10.  ]\n",
        "kernel: ['rbf']\n"
       ]
      }
     ],
     "prompt_number": 10
    },
    {
     "cell_type": "markdown",
     "metadata": {
      "slideshow": {
       "slide_type": "slide"
      }
     },
     "source": [
      "# 3. Train, Predict, and check the Accuray Score"
     ]
    },
    {
     "cell_type": "code",
     "collapsed": false,
     "input": [
      "from sklearn import grid_search as gs\n",
      "\n",
      "# K-Fold & GridSearchCV\n",
      "cvk = cv.StratifiedKFold(y_train, n_folds=5)\n",
      "clf = gs.GridSearchCV(svm.SVC(), params, cv=cvk)\n",
      "\n",
      "# Fit the Model\n",
      "clf.fit(X_train, y_train)\n",
      "\n",
      "# Accuracy Score\n",
      "print( metrics.accuracy_score(y_test, clf.predict(X_test)) )"
     ],
     "language": "python",
     "metadata": {},
     "outputs": [
      {
       "output_type": "stream",
       "stream": "stdout",
       "text": [
        "0.89\n"
       ]
      }
     ],
     "prompt_number": 11
    },
    {
     "cell_type": "markdown",
     "metadata": {
      "slideshow": {
       "slide_type": "slide"
      }
     },
     "source": [
      "# 4. Make your new submission"
     ]
    },
    {
     "cell_type": "code",
     "collapsed": false,
     "input": [
      "df_submission = pd.DataFrame( predictions , columns=['Solution'])\n",
      "df_submission = df_submission.reset_index().rename(columns={'index': 'Id'})\n",
      "df_submission['Id'] = df_submission['Id'] + 1\n",
      "df_submission.to_csv('output/dslondon_submission2.csv', index=None)"
     ],
     "language": "python",
     "metadata": {
      "slideshow": {
       "slide_type": "-"
      }
     },
     "outputs": [],
     "prompt_number": 12
    },
    {
     "cell_type": "markdown",
     "metadata": {
      "slideshow": {
       "slide_type": "slide"
      }
     },
     "source": [
      "# 5. Submit !\n",
      "\n",
      "<http://www.kaggle.com/c/data-science-london-scikit-learn/submissions/attach>"
     ]
    }
   ],
   "metadata": {}
  }
 ]
}